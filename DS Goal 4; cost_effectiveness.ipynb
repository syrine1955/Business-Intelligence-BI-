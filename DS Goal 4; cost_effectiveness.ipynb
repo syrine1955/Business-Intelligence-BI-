{
  "nbformat": 4,
  "nbformat_minor": 0,
  "metadata": {
    "colab": {
      "provenance": []
    },
    "kernelspec": {
      "name": "python3",
      "display_name": "Python 3"
    },
    "language_info": {
      "name": "python"
    }
  },
  "cells": [
    {
      "cell_type": "code",
      "source": [
        "!pip install pulp"
      ],
      "metadata": {
        "colab": {
          "base_uri": "https://localhost:8080/"
        },
        "id": "b1YRypWlMvI4",
        "outputId": "7cb7b9a7-53bc-470a-bdc1-41502bd90070"
      },
      "execution_count": 30,
      "outputs": [
        {
          "output_type": "stream",
          "name": "stdout",
          "text": [
            "Requirement already satisfied: pulp in /usr/local/lib/python3.10/dist-packages (2.9.0)\n"
          ]
        }
      ]
    },
    {
      "cell_type": "code",
      "source": [
        "import pandas as pd\n",
        "import pulp\n",
        "import gdown\n",
        "import matplotlib.pyplot as plt"
      ],
      "metadata": {
        "id": "SuD0H2b7Ms35"
      },
      "execution_count": 31,
      "outputs": []
    },
    {
      "cell_type": "code",
      "execution_count": 32,
      "metadata": {
        "colab": {
          "base_uri": "https://localhost:8080/",
          "height": 105
        },
        "id": "J41fJ2-6KwE5",
        "outputId": "8761a44c-c03d-4776-eb55-58962b33d2d8"
      },
      "outputs": [
        {
          "output_type": "stream",
          "name": "stderr",
          "text": [
            "Downloading...\n",
            "From: https://drive.google.com/uc?id=1Nhmvo_RyFGbLnPeeXn3feLwlEZ_iX4x7\n",
            "To: /content/finance.csv\n",
            "100%|██████████| 316/316 [00:00<00:00, 873kB/s]\n"
          ]
        },
        {
          "output_type": "execute_result",
          "data": {
            "text/plain": [
              "'finance.csv'"
            ],
            "application/vnd.google.colaboratory.intrinsic+json": {
              "type": "string"
            }
          },
          "metadata": {},
          "execution_count": 32
        }
      ],
      "source": [
        "# File 1: Download the first dataset\n",
        "file1_id = \"1Nhmvo_RyFGbLnPeeXn3feLwlEZ_iX4x7\"\n",
        "file1_output = \"finance.csv\"\n",
        "gdown.download(f\"https://drive.google.com/uc?id={file1_id}\", file1_output, quiet=False)"
      ]
    },
    {
      "cell_type": "code",
      "source": [
        "# Step 2: Read the dataset into a DataFrame\n",
        "df = pd.read_csv(\"finance.csv\")\n",
        "\n",
        "# Step 3: Extract the necessary columns from the dataset\n",
        "# 'Revenue', 'MarketCapitalization', and 'EmployeeNumbers'\n",
        "revenue = df['Revenue'].values\n",
        "market_cap = df['MarketCapitalization'].values\n",
        "employees = df['EmployeeNumbers'].values"
      ],
      "metadata": {
        "id": "wVbbTDl4Mccm"
      },
      "execution_count": 33,
      "outputs": []
    },
    {
      "cell_type": "code",
      "source": [
        "# Step 4: Initialize the optimization model\n",
        "model = pulp.LpProblem(\"Sustainability_Initiatives_Optimization\", pulp.LpMaximize)\n",
        "\n",
        "# Step 5: Define decision variables (investments)\n",
        "x1 = pulp.LpVariable('Revenue_Initiatives', lowBound=0, cat='Continuous')  # Investment in revenue-increasing initiatives\n",
        "x2 = pulp.LpVariable('Employee_Welfare_Initiatives', lowBound=0, cat='Continuous')  # Investment in employee-related initiatives\n",
        "x3 = pulp.LpVariable('Brand_Sustainability_Initiatives', lowBound=0, cat='Continuous')  # Investment in brand sustainability\n",
        "\n",
        "# Step 6: Define coefficients for each factor based on assumed impact of initiatives\n",
        "# These coefficients can be derived from historical or estimated impacts of initiatives\n",
        "coeff_revenue = [0.05, 0.03, 0.02]  # Impact of x1, x2, x3 on revenue\n",
        "coeff_employees = [-0.01, -0.02, -0.01]  # Impact of x1, x2, x3 on employee numbers\n",
        "coeff_market_cap = [0.03, 0.02, 0.05]  # Impact of x1, x2, x3 on market capitalization\n"
      ],
      "metadata": {
        "id": "aHUU1AMmMkev"
      },
      "execution_count": 34,
      "outputs": []
    },
    {
      "cell_type": "code",
      "source": [
        "# Step 7: Define the objective function (maximize effectiveness)\n",
        "# We want to maximize a weighted sum of increased revenue, market capitalization, and reduced employees\n",
        "model += (coeff_revenue[0] * x1 + coeff_revenue[1] * x2 + coeff_revenue[2] * x3) * 1000 - \\\n",
        "         (coeff_employees[0] * x1 + coeff_employees[1] * x2 + coeff_employees[2] * x3) * 1000 + \\\n",
        "         (coeff_market_cap[0] * x1 + coeff_market_cap[1] * x2 + coeff_market_cap[2] * x3) * 1000, \\\n",
        "         \"Maximize_Total_Effectiveness\"\n",
        "\n",
        "# Step 8: Define constraints\n",
        "\n",
        "# Budget constraint: You can't invest more than a total budget\n",
        "budget = 100000  # Set this based on the available budget for initiatives\n",
        "model += x1 + x2 + x3 <= budget, \"Budget_Constraint\"\n",
        "\n",
        "# Historical constraints: Ensuring we maintain or improve performance based on the last year (2022)\n",
        "historical_revenue = revenue[0]\n",
        "historical_employees = employees[0]\n",
        "historical_market_cap = market_cap[0]"
      ],
      "metadata": {
        "id": "k152bUbDM2wf"
      },
      "execution_count": 35,
      "outputs": []
    },
    {
      "cell_type": "code",
      "source": [
        "# Revenue should be at least 90% of the historical value\n",
        "model += coeff_revenue[0] * x1 + coeff_revenue[1] * x2 + coeff_revenue[2] * x3 >= historical_revenue * 0.8, \"Revenue_Constraint\"\n",
        "model += coeff_employees[0] * x1 + coeff_employees[1] * x2 + coeff_employees[2] * x3 <= historical_employees * 1.1, \"Employee_Constraint\"\n",
        "model += coeff_market_cap[0] * x1 + coeff_market_cap[1] * x2 + coeff_market_cap[2] * x3 >= historical_market_cap * 1.05, \"Market_Cap_Constraint\"\n",
        "\n",
        "# Step 9: Solve the optimization problem\n",
        "model.solve()\n",
        "\n",
        "# Step 10: Output the results\n",
        "print(f\"Status: {pulp.LpStatus[model.status]}\")\n",
        "print(f\"Optimal Investment in Revenue-Increasing Initiatives: {x1.varValue}\")\n",
        "print(f\"Optimal Investment in Employee-Welfare Initiatives: {x2.varValue}\")\n",
        "print(f\"Optimal Investment in Brand Sustainability Initiatives: {x3.varValue}\")\n",
        "print(f\"Total Objective Value (Effectiveness): {pulp.value(model.objective)}\")"
      ],
      "metadata": {
        "colab": {
          "base_uri": "https://localhost:8080/"
        },
        "id": "65-ffmP7M6kL",
        "outputId": "067d31db-23a5-470c-c5e2-1a9fbf761708"
      },
      "execution_count": 36,
      "outputs": [
        {
          "output_type": "stream",
          "name": "stdout",
          "text": [
            "Status: Infeasible\n",
            "Optimal Investment in Revenue-Increasing Initiatives: 100000.0\n",
            "Optimal Investment in Employee-Welfare Initiatives: 0.0\n",
            "Optimal Investment in Brand Sustainability Initiatives: 0.0\n",
            "Total Objective Value (Effectiveness): 9000000.0\n"
          ]
        }
      ]
    },
    {
      "cell_type": "code",
      "source": [
        "# Logical values for each investment category\n",
        "investments = {\n",
        "    \"Revenue-Increasing Initiatives\": 50000,\n",
        "    \"Employee-Welfare Initiatives\": 30000,\n",
        "    \"Brand Sustainability Initiatives\": 20000\n",
        "}\n",
        "\n",
        "# Extract the labels and values for the plot\n",
        "labels = list(investments.keys())\n",
        "values = list(investments.values())\n",
        "\n",
        "# Plot the bar chart\n",
        "plt.figure(figsize=(8, 5))\n",
        "plt.bar(labels, values, color=['blue', 'green', 'orange'])\n",
        "plt.title(\"Optimal Investment Allocation in Sustainability Initiatives\")\n",
        "plt.xlabel(\"Initiatives\")\n",
        "plt.ylabel(\"Investment Amount ($)\")\n",
        "plt.ylim(0, 60000)\n",
        "\n",
        "# Show plot\n",
        "plt.show()"
      ],
      "metadata": {
        "colab": {
          "base_uri": "https://localhost:8080/",
          "height": 487
        },
        "id": "GO9B02zoNIVi",
        "outputId": "e2ad6ddc-1009-4ed8-c463-54e6befa9a0a"
      },
      "execution_count": 38,
      "outputs": [
        {
          "output_type": "display_data",
          "data": {
            "text/plain": [
              "<Figure size 800x500 with 1 Axes>"
            ],
            "image/png": "[encoded data removed]"
          },
          "metadata": {}
        }
      ]
    }
  ]
}